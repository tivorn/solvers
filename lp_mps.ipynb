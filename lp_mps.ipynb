{
 "cells": [
  {
   "cell_type": "markdown",
   "metadata": {},
   "source": [
    "# Lendo/resolvendo .mps ou .lp"
   ]
  },
  {
   "cell_type": "code",
   "execution_count": 6,
   "metadata": {},
   "outputs": [],
   "source": [
    "# importando bibliotecas\n",
    "import gurobipy as gp\n",
    "from gurobipy import GRB"
   ]
  },
  {
   "cell_type": "code",
   "execution_count": 7,
   "metadata": {},
   "outputs": [
    {
     "name": "stdout",
     "output_type": "stream",
     "text": [
      "Using license file /opt/gurobi902/gurobi.lic\n",
      "Academic license - for non-commercial use only\n",
      "Read MPS format model from file mps/afiro.mps\n",
      "Reading time = 0.05 seconds\n",
      "AFIRO: 27 rows, 32 columns, 83 nonzeros\n"
     ]
    }
   ],
   "source": [
    "# Criando o modelo de um arquivo(mps)\n",
    "model = gp.read(\"mps/afiro.mps\")"
   ]
  },
  {
   "cell_type": "code",
   "execution_count": 8,
   "metadata": {},
   "outputs": [
    {
     "name": "stdout",
     "output_type": "stream",
     "text": [
      "Gurobi Optimizer version 9.0.2 build v9.0.2rc0 (linux64)\n",
      "Optimize a model with 27 rows, 32 columns and 83 nonzeros\n",
      "Model fingerprint: 0x0e972b37\n",
      "Coefficient statistics:\n",
      "  Matrix range     [1e-01, 2e+00]\n",
      "  Objective range  [3e-01, 1e+01]\n",
      "  Bounds range     [0e+00, 0e+00]\n",
      "  RHS range        [4e+01, 5e+02]\n",
      "Presolve removed 18 rows and 20 columns\n",
      "Presolve time: 0.29s\n",
      "Presolved: 9 rows, 12 columns, 32 nonzeros\n",
      "\n",
      "Iteration    Objective       Primal Inf.    Dual Inf.      Time\n",
      "       0   -5.9751945e+02   5.541356e+01   0.000000e+00      0s\n",
      "       6   -4.6475314e+02   0.000000e+00   0.000000e+00      0s\n",
      "\n",
      "Solved in 6 iterations and 0.31 seconds\n",
      "Optimal objective -4.647531429e+02\n"
     ]
    }
   ],
   "source": [
    "# resolvendo o modelo\n",
    "model.optimize()"
   ]
  },
  {
   "cell_type": "code",
   "execution_count": 9,
   "metadata": {},
   "outputs": [
    {
     "data": {
      "text/plain": [
       "-464.75314285714285"
      ]
     },
     "execution_count": 9,
     "metadata": {},
     "output_type": "execute_result"
    }
   ],
   "source": [
    "# imprimindo o valor ótimo\n",
    "model.Objval"
   ]
  },
  {
   "cell_type": "code",
   "execution_count": 10,
   "metadata": {},
   "outputs": [
    {
     "name": "stdout",
     "output_type": "stream",
     "text": [
      "\n",
      "    Variable            x \n",
      "-------------------------\n",
      "         X01           80 \n",
      "         X02         25.5 \n",
      "         X03         54.5 \n",
      "         X04         84.8 \n",
      "         X06      18.2143 \n",
      "         X14      18.2143 \n",
      "         X16      19.3071 \n",
      "         X22          500 \n",
      "         X23       475.92 \n",
      "         X24        24.08 \n",
      "         X26          215 \n",
      "         X36      339.943 \n",
      "         X37      383.943 \n"
     ]
    }
   ],
   "source": [
    "# imprimindo a solução diferente de zero\n",
    "model.printAttr('x')"
   ]
  },
  {
   "cell_type": "code",
   "execution_count": null,
   "metadata": {},
   "outputs": [],
   "source": []
  }
 ],
 "metadata": {
  "kernelspec": {
   "display_name": "Python 3",
   "language": "python",
   "name": "python3"
  },
  "language_info": {
   "codemirror_mode": {
    "name": "ipython",
    "version": 3
   },
   "file_extension": ".py",
   "mimetype": "text/x-python",
   "name": "python",
   "nbconvert_exporter": "python",
   "pygments_lexer": "ipython3",
   "version": "3.6.9"
  }
 },
 "nbformat": 4,
 "nbformat_minor": 2
}
