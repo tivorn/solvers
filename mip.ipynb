{
 "cells": [
  {
   "cell_type": "markdown",
   "metadata": {},
   "source": [
    "## Exemplo de um MIP\n",
    "\n",
    "- Suponha que queremos decidir entre 3 tarefas, fazer ou não fazer, e obter um valor máximo.\n",
    "\n",
    "$x, y, z$ são tarefas\n",
    "\n",
    "- Você precisa escolher a tarefa 1 ou a tarefa 2, ou ambas.\n",
    "\n",
    "$\n",
    "x + y \\geq 1\n",
    "$\n",
    "\n",
    "- O tempo total que você tem para realizar essas tarefas são 4 horas.\n",
    "\n",
    "    - A tarefa 1 toma 1 hora.\n",
    "\n",
    "    - A tarefa 2 toma 2 horas.\n",
    "\n",
    "    - A tarefa 3 toma 3 horas.\n",
    "\n",
    "$\n",
    "1 x + 2 y + 3 z \\leq 4\n",
    "$\n",
    "\n",
    "- A tarefa 3 vale o dobro da tarefa 1 e da tarefa 2.\n",
    " \n",
    "$\n",
    "\\max \\ x + y + 2 z\n",
    "$\n",
    "\n",
    "- Este problema pode ser modelado como um problema de programação inteira binária.\n",
    "\n",
    "$\n",
    "x, y, z \\in \\{ 0, 1 \\}\n",
    "$"
   ]
  },
  {
   "cell_type": "markdown",
   "metadata": {},
   "source": [
    "- Formulação\n",
    "\n",
    "$\n",
    "\\begin{align}\n",
    "\\max \\ & x + y + 2 z \\\\\n",
    "& x + 2 y + 3 z \\leq 4 \\\\\n",
    "& x + y \\geq 1 \\\\\n",
    "& x, y, z \\in \\{ 0, 1 \\}\n",
    "\\end{align}\n",
    "$"
   ]
  },
  {
   "cell_type": "markdown",
   "metadata": {},
   "source": [
    "## Modelando e resolvendo o problema\n",
    "\n",
    "* importar as bibliotecas\n",
    "\n",
    "* Defina o modelo.\n",
    "\n",
    "* Defina as variáveis.\n",
    "\n",
    "* Defina a função objetivo.\n",
    "\n",
    "* Adicionando as restrições.\n",
    "\n",
    "* Execute a função optimize().\n",
    "\n",
    "* Imprima as soluções."
   ]
  },
  {
   "cell_type": "code",
   "execution_count": 1,
   "metadata": {},
   "outputs": [],
   "source": [
    "# importando bibliotecas\n",
    "import gurobipy as gp\n",
    "from gurobipy import GRB"
   ]
  },
  {
   "cell_type": "code",
   "execution_count": null,
   "metadata": {},
   "outputs": [],
   "source": [
    "# definindo o modelo\n",
    "mip0 = gp.Model(\"mip0\")"
   ]
  },
  {
   "cell_type": "code",
   "execution_count": null,
   "metadata": {},
   "outputs": [],
   "source": [
    "# adicionando variáveis\n",
    "x = mip0.addVar(vtype=GRB.BINARY, name=\"x\")\n",
    "y = mip0.addVar(vtype=GRB.BINARY, name=\"y\")\n",
    "z = mip0.addVar(vtype=GRB.BINARY, name=\"z\")"
   ]
  },
  {
   "cell_type": "code",
   "execution_count": null,
   "metadata": {},
   "outputs": [],
   "source": [
    "# definindo a função objetivo\n",
    "mip0.setObjective(x + y + 2 * z, GRB.MAXIMIZE)"
   ]
  },
  {
   "cell_type": "code",
   "execution_count": null,
   "metadata": {},
   "outputs": [],
   "source": [
    "# adicionando a restrição, x + 2 y + 3 z <= 4\n",
    "mip0.addConstr(x + 2 * y + 3 * z <= 4, \"rest0\")\n",
    "\n",
    "# adicionando a restrição, x + y >= 1\n",
    "mip0.addConstr(x + y >= 1, \"rest1\")"
   ]
  },
  {
   "cell_type": "code",
   "execution_count": null,
   "metadata": {},
   "outputs": [],
   "source": [
    "# exportando .lp/.mps\n",
    "mip0.write(\"mip0.mps\")"
   ]
  },
  {
   "cell_type": "code",
   "execution_count": null,
   "metadata": {},
   "outputs": [],
   "source": [
    "# resolvendo o modelo\n",
    "mip0.optimize()"
   ]
  },
  {
   "cell_type": "code",
   "execution_count": null,
   "metadata": {},
   "outputs": [],
   "source": [
    "# imprimindo a solução ótima\n",
    "print('Obj = %g' % mip0.objVal)\n",
    "\n",
    "# imprimindo as soluções\n",
    "for v in mip0.getVars():\n",
    "    print('%s = %g' % (v.varName, v.x))"
   ]
  },
  {
   "cell_type": "markdown",
   "metadata": {},
   "source": [
    "# Modelando com matrizes."
   ]
  },
  {
   "cell_type": "code",
   "execution_count": null,
   "metadata": {},
   "outputs": [],
   "source": [
    "!pip3 install scipy"
   ]
  },
  {
   "cell_type": "code",
   "execution_count": null,
   "metadata": {},
   "outputs": [],
   "source": [
    "import numpy as np\n",
    "import scipy.sparse as sp\n",
    "\n",
    "# criando um novo modelo\n",
    "m1 = gp.Model(\"matrix\")\n",
    "\n",
    "# criando as variáveis\n",
    "x = m1.addMVar(shape=3, vtype=GRB.BINARY, name=\"x\")\n",
    "\n",
    "# definindo a função objetivo\n",
    "obj = np.array([1.0, 1.0, 2.0])\n",
    "m1.setObjective(obj @ x, GRB.MAXIMIZE)\n",
    "\n",
    "# construindo a matriz de restrição, esparsa\n",
    "val = np.array([1.0, 2.0, 3.0, -1.0, -1.0])\n",
    "row = np.array([0, 0, 0, 1, 1])\n",
    "col = np.array([0, 1, 2, 0, 1])\n",
    "\n",
    "A = sp.csr_matrix((val, (row, col)), shape=(2, 3))\n",
    "\n",
    "# construindo o vetor do lado direito, rhs\n",
    "rhs = np.array([4.0, -1.0])\n",
    "\n",
    "# adicionando as restrições\n",
    "m1.addConstr(A @ x <= rhs, name=\"c\")\n",
    "    \n",
    "# gerando .lp\n",
    "m1.write(\"matrix.lp\")\n",
    "\n",
    "# resolvendo o problema\n",
    "m1.optimize()\n",
    "\n",
    "# imprimindo a solução ótima\n",
    "print(x.X)\n",
    "    \n",
    "# imprimindo o valor ótimo\n",
    "print('Obj = %g' % m1.objVal)"
   ]
  },
  {
   "cell_type": "code",
   "execution_count": null,
   "metadata": {},
   "outputs": [],
   "source": []
  }
 ],
 "metadata": {
  "kernelspec": {
   "display_name": "Python 3",
   "language": "python",
   "name": "python3"
  },
  "language_info": {
   "codemirror_mode": {
    "name": "ipython",
    "version": 3
   },
   "file_extension": ".py",
   "mimetype": "text/x-python",
   "name": "python",
   "nbconvert_exporter": "python",
   "pygments_lexer": "ipython3",
   "version": "3.6.9"
  }
 },
 "nbformat": 4,
 "nbformat_minor": 2
}
