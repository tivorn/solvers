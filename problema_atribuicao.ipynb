{
 "cells": [
  {
   "cell_type": "code",
   "execution_count": 1,
   "metadata": {},
   "outputs": [],
   "source": [
    "# importando as bibliotecas\n",
    "import gurobipy as gp\n",
    "from gurobipy import GRB"
   ]
  },
  {
   "cell_type": "code",
   "execution_count": 2,
   "metadata": {},
   "outputs": [],
   "source": [
    "# conjuntos: recursos e trabalhos\n",
    "I = ['Carlos', 'Jonas', 'Monica']\n",
    "J = ['Cientista', 'Desenvolvedor', 'Arquiteto']"
   ]
  },
  {
   "cell_type": "code",
   "execution_count": 3,
   "metadata": {},
   "outputs": [],
   "source": [
    "# matriz percentual\n",
    "key, perc = gp.multidict({\n",
    "    ('Carlos', 'Cientista'): 53,\n",
    "    ('Carlos', 'Desenvolvedor'): 27,\n",
    "    ('Carlos', 'Arquiteto'): 13,\n",
    "    ('Jonas', 'Cientista'): 80,\n",
    "    ('Jonas', 'Desenvolvedor'): 47,\n",
    "    ('Jonas', 'Arquiteto'): 67,\n",
    "    ('Monica', 'Cientista'): 53,\n",
    "    ('Monica', 'Desenvolvedor'): 73,\n",
    "    ('Monica', 'Arquiteto'): 47\n",
    "})"
   ]
  },
  {
   "cell_type": "code",
   "execution_count": 24,
   "metadata": {},
   "outputs": [
    {
     "name": "stdout",
     "output_type": "stream",
     "text": [
      "('Ana', 'Arquiteto')\n"
     ]
    }
   ],
   "source": [
    "print(key)"
   ]
  },
  {
   "cell_type": "code",
   "execution_count": 22,
   "metadata": {},
   "outputs": [
    {
     "data": {
      "text/plain": [
       "{('Carlos', 'Cientista'): 53,\n",
       " ('Carlos', 'Desenvolvedor'): 27,\n",
       " ('Carlos', 'Arquiteto'): 13,\n",
       " ('Jonas', 'Cientista'): 80,\n",
       " ('Jonas', 'Desenvolvedor'): 47,\n",
       " ('Jonas', 'Arquiteto'): 67,\n",
       " ('Monica', 'Cientista'): 53,\n",
       " ('Monica', 'Desenvolvedor'): 73,\n",
       " ('Monica', 'Arquiteto'): 47}"
      ]
     },
     "execution_count": 22,
     "metadata": {},
     "output_type": "execute_result"
    }
   ],
   "source": [
    "perc"
   ]
  },
  {
   "cell_type": "code",
   "execution_count": 4,
   "metadata": {},
   "outputs": [
    {
     "name": "stdout",
     "output_type": "stream",
     "text": [
      "Academic license - for non-commercial use only - expires 2022-09-29\n",
      "Using license file /opt/gurobi912/gurobi.lic\n"
     ]
    }
   ],
   "source": [
    "# definindo o modelo\n",
    "m = gp.Model(\"atribuicao\")"
   ]
  },
  {
   "cell_type": "code",
   "execution_count": 5,
   "metadata": {},
   "outputs": [],
   "source": [
    "# adicionando variaveis\n",
    "x = m.addVars(key, name='x')"
   ]
  },
  {
   "cell_type": "code",
   "execution_count": 6,
   "metadata": {},
   "outputs": [],
   "source": [
    "# adicionando restricoes de trabalho\n",
    "trabalho = m.addConstrs((x.sum('*',j) == 1 for j in J),'trabalho')"
   ]
  },
  {
   "cell_type": "code",
   "execution_count": 7,
   "metadata": {},
   "outputs": [],
   "source": [
    "# adicionando restricoes de recursos(pessoas)\n",
    "pessoa = m.addConstrs((x.sum(i,'*') <= 1 for i in I),'pessoa')"
   ]
  },
  {
   "cell_type": "code",
   "execution_count": 8,
   "metadata": {},
   "outputs": [],
   "source": [
    "# definindo a funcao objetivo\n",
    "m.setObjective(x.prod(perc),GRB.MAXIMIZE)"
   ]
  },
  {
   "cell_type": "code",
   "execution_count": 10,
   "metadata": {},
   "outputs": [],
   "source": [
    "# exportando .lp/.mps\n",
    "m.write('atribuicao.mps')"
   ]
  },
  {
   "cell_type": "code",
   "execution_count": 11,
   "metadata": {},
   "outputs": [
    {
     "name": "stdout",
     "output_type": "stream",
     "text": [
      "Gurobi Optimizer version 9.1.2 build v9.1.2rc0 (linux64)\n",
      "Thread count: 4 physical cores, 8 logical processors, using up to 8 threads\n",
      "Optimize a model with 6 rows, 9 columns and 18 nonzeros\n",
      "Model fingerprint: 0xb343b6eb\n",
      "Coefficient statistics:\n",
      "  Matrix range     [1e+00, 1e+00]\n",
      "  Objective range  [1e+01, 8e+01]\n",
      "  Bounds range     [0e+00, 0e+00]\n",
      "  RHS range        [1e+00, 1e+00]\n",
      "Presolve time: 0.01s\n",
      "Presolved: 6 rows, 9 columns, 18 nonzeros\n",
      "\n",
      "Iteration    Objective       Primal Inf.    Dual Inf.      Time\n",
      "       0    4.6000000e+32   1.800000e+31   4.600000e+02      0s\n",
      "       5    1.9300000e+02   0.000000e+00   0.000000e+00      0s\n",
      "\n",
      "Solved in 5 iterations and 0.02 seconds\n",
      "Optimal objective  1.930000000e+02\n"
     ]
    }
   ],
   "source": [
    "# resolvendo o problema\n",
    "m.optimize()"
   ]
  },
  {
   "cell_type": "code",
   "execution_count": 13,
   "metadata": {},
   "outputs": [
    {
     "name": "stdout",
     "output_type": "stream",
     "text": [
      "x[Carlos,Cientista] = 1.0\n",
      "x[Carlos,Desenvolvedor] = 0.0\n",
      "x[Carlos,Arquiteto] = 0.0\n",
      "x[Jonas,Cientista] = 0.0\n",
      "x[Jonas,Desenvolvedor] = 0.0\n",
      "x[Jonas,Arquiteto] = 1.0\n",
      "x[Monica,Cientista] = 0.0\n",
      "x[Monica,Desenvolvedor] = 1.0\n",
      "x[Monica,Arquiteto] = 0.0\n"
     ]
    }
   ],
   "source": [
    "#imprimindo solucao\n",
    "for var in m.getVars():\n",
    "    if abs(var.x) > 1e-6:\n",
    "        print(var.varName, '=', var.x)"
   ]
  },
  {
   "cell_type": "code",
   "execution_count": 14,
   "metadata": {},
   "outputs": [
    {
     "name": "stdout",
     "output_type": "stream",
     "text": [
      "Percentual = 193.0\n"
     ]
    }
   ],
   "source": [
    "# imprimindo valor objetivo\n",
    "print('Percentual =', m.objVal)"
   ]
  },
  {
   "cell_type": "code",
   "execution_count": 15,
   "metadata": {},
   "outputs": [],
   "source": [
    "# alterando o cenario. Ana passa a fazer parte da selecao\n",
    "nperc = {('Ana','Cientista'):100, ('Ana','Desenvolvedor'):100, ('Ana','Arquiteto'):100}"
   ]
  },
  {
   "cell_type": "code",
   "execution_count": 16,
   "metadata": {},
   "outputs": [],
   "source": [
    "# alterando o cenario. Ana passa a fazer parte da selecao\n",
    "for key, val in nperc.items():\n",
    "    i, j = key\n",
    "    x[key] = m.addVar(obj=val,\n",
    "                    name='x[{0},{1}]'.format(i,j),\n",
    "                    column=gp.Column([1],[m.getConstrByName('trabalho[{0}]'.format(j))])\n",
    "                   )"
   ]
  },
  {
   "cell_type": "code",
   "execution_count": 17,
   "metadata": {},
   "outputs": [
    {
     "data": {
      "text/plain": [
       "<gurobi.Constr *Awaiting Model Update*>"
      ]
     },
     "execution_count": 17,
     "metadata": {},
     "output_type": "execute_result"
    }
   ],
   "source": [
    "# alterando o cenario. Ana passa a fazer parte da selecao\n",
    "m.addConstr(x.sum('Ana','*') <= 1, name='pessoa[Ana]')"
   ]
  },
  {
   "cell_type": "code",
   "execution_count": 18,
   "metadata": {},
   "outputs": [],
   "source": [
    "# exportando .lp/.mps\n",
    "m.write('atribuicao_novo.mps')"
   ]
  },
  {
   "cell_type": "code",
   "execution_count": 19,
   "metadata": {},
   "outputs": [
    {
     "name": "stdout",
     "output_type": "stream",
     "text": [
      "Gurobi Optimizer version 9.1.2 build v9.1.2rc0 (linux64)\n",
      "Thread count: 4 physical cores, 8 logical processors, using up to 8 threads\n",
      "Optimize a model with 7 rows, 12 columns and 24 nonzeros\n",
      "Coefficient statistics:\n",
      "  Matrix range     [1e+00, 1e+00]\n",
      "  Objective range  [1e+01, 1e+02]\n",
      "  Bounds range     [0e+00, 0e+00]\n",
      "  RHS range        [1e+00, 1e+00]\n",
      "Iteration    Objective       Primal Inf.    Dual Inf.      Time\n",
      "       0    1.4100000e+32   9.000000e+30   1.410000e+02      0s\n",
      "       2    2.5300000e+02   0.000000e+00   0.000000e+00      0s\n",
      "\n",
      "Solved in 2 iterations and 0.01 seconds\n",
      "Optimal objective  2.530000000e+02\n"
     ]
    }
   ],
   "source": [
    "# resolvendo o problema\n",
    "m.optimize()"
   ]
  },
  {
   "cell_type": "code",
   "execution_count": 20,
   "metadata": {},
   "outputs": [
    {
     "name": "stdout",
     "output_type": "stream",
     "text": [
      "x[Jonas,Cientista] = 1.0\n",
      "x[Monica,Desenvolvedor] = 1.0\n",
      "x[Ana,Arquiteto] = 1.0\n"
     ]
    }
   ],
   "source": [
    "# imprimindo solucao\n",
    "for var in m.getVars():\n",
    "    if abs(var.x) > 1e-6:\n",
    "        print(var.varName, '=', var.x)"
   ]
  },
  {
   "cell_type": "code",
   "execution_count": 21,
   "metadata": {},
   "outputs": [
    {
     "name": "stdout",
     "output_type": "stream",
     "text": [
      "Novo percentual =  253.0\n"
     ]
    }
   ],
   "source": [
    "# imprimindo o valor otimo\n",
    "print(\"Novo percentual = \", m.objVal)"
   ]
  },
  {
   "cell_type": "code",
   "execution_count": null,
   "metadata": {},
   "outputs": [],
   "source": []
  }
 ],
 "metadata": {
  "kernelspec": {
   "display_name": "Python 3 (ipykernel)",
   "language": "python",
   "name": "python3"
  },
  "language_info": {
   "codemirror_mode": {
    "name": "ipython",
    "version": 3
   },
   "file_extension": ".py",
   "mimetype": "text/x-python",
   "name": "python",
   "nbconvert_exporter": "python",
   "pygments_lexer": "ipython3",
   "version": "3.8.10"
  }
 },
 "nbformat": 4,
 "nbformat_minor": 4
}
